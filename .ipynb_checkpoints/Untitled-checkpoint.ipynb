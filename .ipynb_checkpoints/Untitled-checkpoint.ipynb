{
 "cells": [
  {
   "cell_type": "code",
   "execution_count": 1,
   "metadata": {},
   "outputs": [],
   "source": [
    "import nltk\n",
    "import spacy\n",
    "from collections import Counter\n",
    "from database.pymysql_conn import DataBase\n",
    "from tqdm import tqdm\n",
    "\n",
    "import pickle\n",
    "\n",
    "tqdm.pandas()"
   ]
  },
  {
   "cell_type": "code",
   "execution_count": 2,
   "metadata": {},
   "outputs": [],
   "source": [
    "db = DataBase()"
   ]
  },
  {
   "cell_type": "code",
   "execution_count": 3,
   "metadata": {},
   "outputs": [],
   "source": [
    "SQL=\"\"\"\n",
    "SELECT \n",
    "    T1.appid,\n",
    "    T1.avg_player_count,\n",
    "    T1.gameName,\n",
    "    T1.release_date,\n",
    "    T2.publishedAt,\n",
    "    T2.text,    \n",
    "    DATEDIFF(T2.publishedAt, T1.release_date) as datediff\n",
    "FROM\n",
    "    (SELECT \n",
    "        A.appid, A.gameName, A.avg_player_count, B.release_date\n",
    "    FROM\n",
    "        (SELECT \n",
    "        *\n",
    "    FROM\n",
    "        yt.games) A\n",
    "    JOIN (SELECT \n",
    "        appid, name, MAX(release_date) AS release_date\n",
    "    FROM\n",
    "        oasis.app_info2\n",
    "    GROUP BY appid) AS B ON A.appid = B.appid) T1\n",
    "        LEFT JOIN\n",
    "    (SELECT \n",
    "        appid, gameName, text, publishedAt\n",
    "    FROM\n",
    "        steam.yt_comment\n",
    "    WHERE\n",
    "        filter = 0 AND language = 'en') T2 ON T1.appid = T2.appid\n",
    "WHERE\n",
    "    DATEDIFF(T2.publishedAt, T1.release_date) <= 300\n",
    "\"\"\""
   ]
  },
  {
   "cell_type": "code",
   "execution_count": 4,
   "metadata": {},
   "outputs": [],
   "source": [
    "df = db.to_df(SQL)"
   ]
  },
  {
   "cell_type": "code",
   "execution_count": 5,
   "metadata": {},
   "outputs": [],
   "source": [
    "success = [\"Dota Underlords\",\n",
    "            \"Borderlands GOTY Enhanced\",\n",
    "            \"Anno 1800\",\n",
    "            \"F1 2019\",\n",
    "            \"DEAD OR ALIVE Xtreme Venus Vacation\",\n",
    "            \"RAGE 2\",\n",
    "            \"OCTOPATH TRAVELER\",\n",
    "            \"Lords Mobile\",\n",
    "            \"Pro Cycling Manager 2019\",\n",
    "            \"Ironsight\",\n",
    "            \"Yakuza Kiwami 2\", # 10\n",
    "            \"Pagan Online\",\n",
    "            \"Monster Girl Island Prologue\",\n",
    "            \"Winning Post 9\",\n",
    "            \"Assassins Creed III Remastered\",\n",
    "            \"Otakus Adventure\",\n",
    "            \"SUPER DRAGON BALL HEROES WORLD MISSION\",\n",
    "            \"AVA Dog Tag\"] # 500++"
   ]
  },
  {
   "cell_type": "code",
   "execution_count": 6,
   "metadata": {},
   "outputs": [],
   "source": [
    "df_success = df[df['gameName'].isin(success)]\n",
    "df_fail = df[~df['gameName'].isin(success)]"
   ]
  },
  {
   "cell_type": "code",
   "execution_count": 7,
   "metadata": {},
   "outputs": [],
   "source": [
    "# 성공게임 출시전 댓글\n",
    "groupA = df_success[df_success['datediff'] < 0]\n",
    "# 성공게임 출시후 댓글\n",
    "groupB = df_success[df_success['datediff'] >= 0]\n",
    "# 보통게임 출시후 댓글\n",
    "groupC = df_fail[df_fail['datediff'] >=0]"
   ]
  },
  {
   "cell_type": "code",
   "execution_count": 13,
   "metadata": {},
   "outputs": [],
   "source": [
    "is_noun = lambda pos: pos[:2] == 'NN'\n",
    "is_adj = lambda pos: pos[:2] == 'JJ'\n",
    "is_verb = lambda pos: 'VB' in pos[:2]\n",
    "\n",
    "def pos_tagging(text, func):\n",
    "    tokenized = nltk.word_tokenize(text)\n",
    "    pos = [word for (word, pos) in nltk.pos_tag(tokenized) if func(pos)] \n",
    "    return pos"
   ]
  },
  {
   "cell_type": "code",
   "execution_count": 35,
   "metadata": {},
   "outputs": [],
   "source": [
    "def get_counts(df, func):\n",
    "    \n",
    "    pos = df['text'].progress_apply(pos_tagging, args=(func,))\n",
    "    unpacked = [word for sent in pos for word in sent]\n",
    "    cnt = Counter(unpacked)\n",
    "    return cnt\n",
    "\n",
    "def get_noun_count(df):\n",
    "    \n",
    "    nouns = df['text'].progress_apply(pos_tagging_noun)\n",
    "    unpacked = [word for sent in nouns for word in sent]\n",
    "    \n",
    "    noun_cnt = Counter(unpacked)\n",
    "    \n",
    "    return noun_cnt\n",
    "\n",
    "def get_adj_count(df):\n",
    "    \n",
    "    adjs = df['text'].progress_apply(pos_tagging_adj)\n",
    "    unpacked = [word for sent in adjs for word in sent]\n",
    "    \n",
    "    adj_cnt = Counter(unpacked)\n",
    "    \n",
    "    return adj_cnt"
   ]
  },
  {
   "cell_type": "code",
   "execution_count": 41,
   "metadata": {},
   "outputs": [
    {
     "name": "stderr",
     "output_type": "stream",
     "text": [
      "100%|██████████████████████████████████████████████████████████████| 94181/94181 [02:48<00:00, 557.70it/s]\n",
      "100%|██████████████████████████████████████████████████████████████| 94181/94181 [02:50<00:00, 552.05it/s]\n",
      "100%|██████████████████████████████████████████████████████████████| 94181/94181 [02:52<00:00, 547.55it/s]\n",
      "100%|██████████████████████████████████████████████████████████████| 52811/52811 [01:34<00:00, 557.79it/s]\n",
      "100%|██████████████████████████████████████████████████████████████| 52811/52811 [01:35<00:00, 555.42it/s]\n",
      "100%|██████████████████████████████████████████████████████████████| 52811/52811 [01:35<00:00, 555.56it/s]\n",
      "100%|████████████████████████████████████████████████████████████| 197473/197473 [05:43<00:00, 574.66it/s]\n",
      "100%|████████████████████████████████████████████████████████████| 197473/197473 [05:42<00:00, 576.22it/s]\n",
      "100%|████████████████████████████████████████████████████████████| 197473/197473 [05:46<00:00, 570.66it/s]\n"
     ]
    }
   ],
   "source": [
    "result = {}\n",
    "for group, groupName in zip((groupA, groupB, groupC), (\"A\", \"B\", \"C\")):\n",
    "    result[groupName] = {}\n",
    "    for func, tag in zip((is_noun, is_adj, is_verb), (\"Noun\", \"Adj\", \"Verb\")):\n",
    "        pos = group['text'].progress_apply(pos_tagging, args=(func,))\n",
    "        unpacked = [word for sent in pos for word in sent]\n",
    "        cnt = Counter(unpacked)\n",
    "        result[groupName][tag] = cnt"
   ]
  },
  {
   "cell_type": "code",
   "execution_count": 42,
   "metadata": {},
   "outputs": [],
   "source": [
    "# with open('pos_tag_result.pickle', 'wb') as f:\n",
    "#     pickle.dump(result, f, pickle.HIGHEST_PROTOCOL)\n",
    "\n"
   ]
  },
  {
   "cell_type": "code",
   "execution_count": 51,
   "metadata": {},
   "outputs": [],
   "source": [
    "with open('pos_tag_result.pickle', 'rb') as f:\n",
    "    result = pickle.load(f)"
   ]
  },
  {
   "cell_type": "code",
   "execution_count": 44,
   "metadata": {},
   "outputs": [
    {
     "data": {
      "text/plain": [
       "dict_keys(['A', 'B', 'C'])"
      ]
     },
     "execution_count": 44,
     "metadata": {},
     "output_type": "execute_result"
    }
   ],
   "source": [
    "result.keys()"
   ]
  },
  {
   "cell_type": "code",
   "execution_count": 45,
   "metadata": {},
   "outputs": [
    {
     "data": {
      "text/plain": [
       "dict_keys(['Noun', 'Adj', 'Verb'])"
      ]
     },
     "execution_count": 45,
     "metadata": {},
     "output_type": "execute_result"
    }
   ],
   "source": [
    "result['A'].keys()"
   ]
  },
  {
   "cell_type": "code",
   "execution_count": 48,
   "metadata": {},
   "outputs": [
    {
     "data": {
      "text/plain": [
       "[('game', 26111),\n",
       " ('games', 4696),\n",
       " ('i', 4350),\n",
       " ('video', 4180),\n",
       " ('time', 3423),\n",
       " ('story', 2585),\n",
       " ('people', 2297),\n",
       " ('’', 2182),\n",
       " ('trailer', 2001),\n",
       " ('way', 1961)]"
      ]
     },
     "execution_count": 48,
     "metadata": {},
     "output_type": "execute_result"
    }
   ],
   "source": [
    "result['A']['Noun'].most_common(10)"
   ]
  },
  {
   "cell_type": "code",
   "execution_count": 49,
   "metadata": {},
   "outputs": [
    {
     "data": {
      "text/plain": [
       "[('game', 11811),\n",
       " ('i', 2836),\n",
       " ('video', 2187),\n",
       " ('games', 2041),\n",
       " ('time', 1852),\n",
       " ('channel', 1736),\n",
       " ('’', 1319),\n",
       " ('way', 1164),\n",
       " ('t', 1097),\n",
       " ('series', 992)]"
      ]
     },
     "execution_count": 49,
     "metadata": {},
     "output_type": "execute_result"
    }
   ],
   "source": [
    "result['B']['Noun'].most_common(10)"
   ]
  },
  {
   "cell_type": "code",
   "execution_count": 50,
   "metadata": {},
   "outputs": [
    {
     "data": {
      "text/plain": [
       "[('game', 22391),\n",
       " ('Mark', 11497),\n",
       " ('i', 9726),\n",
       " ('video', 9050),\n",
       " ('time', 6911),\n",
       " ('’', 6539),\n",
       " ('Jack', 5729),\n",
       " ('t', 5105),\n",
       " ('Me', 5079),\n",
       " ('people', 4843)]"
      ]
     },
     "execution_count": 50,
     "metadata": {},
     "output_type": "execute_result"
    }
   ],
   "source": [
    "result['C']['Noun'].most_common(10)"
   ]
  },
  {
   "cell_type": "code",
   "execution_count": null,
   "metadata": {},
   "outputs": [],
   "source": []
  }
 ],
 "metadata": {
  "kernelspec": {
   "display_name": "Python 3",
   "language": "python",
   "name": "python3"
  },
  "language_info": {
   "codemirror_mode": {
    "name": "ipython",
    "version": 3
   },
   "file_extension": ".py",
   "mimetype": "text/x-python",
   "name": "python",
   "nbconvert_exporter": "python",
   "pygments_lexer": "ipython3",
   "version": "3.6.8"
  }
 },
 "nbformat": 4,
 "nbformat_minor": 2
}
